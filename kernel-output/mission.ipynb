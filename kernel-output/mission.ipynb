{
 "cells": [
  {
   "cell_type": "markdown",
   "id": "0c07f783-4301-4661-bd5d-388acd70c8f8",
   "metadata": {},
   "source": [
    "Mission:\n",
    "- Afficher un panel Jupyter\n",
    "- Lancer un nouveau noyau Python\n",
    "- Lui envoyer le code ci-dessous\n",
    "- Afficher l'output du noyau dans le panel en préservant son interactivité avec le noyau"
   ]
  },
  {
   "cell_type": "code",
   "execution_count": null,
   "id": "6173e1e9-bcf2-4b00-89f2-ec63a66502f3",
   "metadata": {
    "editable": true,
    "slideshow": {
     "slide_type": ""
    },
    "tags": []
   },
   "outputs": [],
   "source": [
    "from ipywidgets import IntSlider, Text, HBox\n",
    "slider = IntSlider()\n",
    "view = Text()\n",
    "widget = HBox([slider, view])\n",
    "def callback(event):\n",
    "    view.value=str(event['new'])\n",
    "slider.observe(callback, names=['value'])\n",
    "widget\n"
   ]
  },
  {
   "cell_type": "code",
   "execution_count": null,
   "id": "e222fa15-578a-4875-95e0-16a226af7109",
   "metadata": {
    "editable": true,
    "slideshow": {
     "slide_type": ""
    },
    "tags": []
   },
   "outputs": [],
   "source": [
    "user"
   ]
  },
  {
   "cell_type": "code",
   "execution_count": null,
   "id": "e5f73547-4720-496d-aac8-baa0489b8182",
   "metadata": {},
   "outputs": [],
   "source": [
    "slider.observe?"
   ]
  },
  {
   "cell_type": "code",
   "execution_count": null,
   "id": "c58e5ca0-9d6e-4131-a0d7-87aa033e2d49",
   "metadata": {},
   "outputs": [],
   "source": []
  }
 ],
 "metadata": {
  "kernelspec": {
   "display_name": "Python 3 (ipykernel)",
   "language": "python",
   "name": "python3"
  },
  "language_info": {
   "codemirror_mode": {
    "name": "ipython",
    "version": 3
   },
   "file_extension": ".py",
   "mimetype": "text/x-python",
   "name": "python",
   "nbconvert_exporter": "python",
   "pygments_lexer": "ipython3",
   "version": "3.12.5"
  }
 },
 "nbformat": 4,
 "nbformat_minor": 5
}
